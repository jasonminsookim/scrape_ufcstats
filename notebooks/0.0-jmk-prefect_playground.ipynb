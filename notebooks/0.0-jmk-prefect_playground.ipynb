{
 "cells": [
  {
   "cell_type": "markdown",
   "metadata": {
    "pycharm": {
     "name": "#%% md\n"
    }
   },
   "source": [
    "# Import Libraries"
   ]
  },
  {
   "cell_type": "code",
   "execution_count": 5,
   "metadata": {
    "collapsed": false,
    "execution": {
     "iopub.execute_input": "2021-01-06T04:25:59.961044Z",
     "iopub.status.busy": "2021-01-06T04:25:59.960857Z",
     "iopub.status.idle": "2021-01-06T04:25:59.964561Z",
     "shell.execute_reply": "2021-01-06T04:25:59.963961Z",
     "shell.execute_reply.started": "2021-01-06T04:25:59.961024Z"
    },
    "jupyter": {
     "outputs_hidden": false
    },
    "pycharm": {
     "name": "#%%\n"
    }
   },
   "outputs": [],
   "source": [
    "from prefect import Flow, task\n",
    "from prefect.tasks.shell import ShellTask\n",
    "from prefect.schedules.clocks import IntervalClock\n",
    "from prefect.schedules import Schedule\n",
    "from dask.distributed import Client\n",
    "from prefect.executors import DaskExecutor\n",
    "from datetime import datetime, timedelta\n",
    "import pendulum\n",
    "import os\n",
    "from prefect.run_configs import LocalRun\n",
    "\n",
    "\n",
    "cwd = os.getcwd().split(\"/\")[-1]\n",
    "if cwd == \"notebooks\":\n",
    "    os.chdir(\"../\")"
   ]
  },
  {
   "cell_type": "code",
   "execution_count": 6,
   "metadata": {
    "collapsed": false,
    "execution": {
     "iopub.execute_input": "2021-01-06T04:26:01.017009Z",
     "iopub.status.busy": "2021-01-06T04:26:01.016759Z",
     "iopub.status.idle": "2021-01-06T04:26:01.048800Z",
     "shell.execute_reply": "2021-01-06T04:26:01.047740Z",
     "shell.execute_reply.started": "2021-01-06T04:26:01.016979Z"
    },
    "jupyter": {
     "outputs_hidden": false
    },
    "pycharm": {
     "name": "#%%\n"
    }
   },
   "outputs": [
    {
     "data": {
      "text/html": [
       "<table style=\"border: 2px solid white;\">\n",
       "<tr>\n",
       "<td style=\"vertical-align: top; border: 0px solid white\">\n",
       "<h3 style=\"text-align: left;\">Client</h3>\n",
       "<ul style=\"text-align: left; list-style: none; margin: 0; padding: 0;\">\n",
       "  <li><b>Scheduler: </b>tcp://192.168.1.26:8786</li>\n",
       "  <li><b>Dashboard: </b><a href='http://192.168.1.26:8787/status' target='_blank'>http://192.168.1.26:8787/status</a></li>\n",
       "</ul>\n",
       "</td>\n",
       "<td style=\"vertical-align: top; border: 0px solid white\">\n",
       "<h3 style=\"text-align: left;\">Cluster</h3>\n",
       "<ul style=\"text-align: left; list-style:none; margin: 0; padding: 0;\">\n",
       "  <li><b>Workers: </b>6</li>\n",
       "  <li><b>Cores: </b>6</li>\n",
       "  <li><b>Memory: </b>34.36 GB</li>\n",
       "</ul>\n",
       "</td>\n",
       "</tr>\n",
       "</table>"
      ],
      "text/plain": [
       "<Client: 'tcp://192.168.1.26:8786' processes=6 threads=6, memory=34.36 GB>"
      ]
     },
     "execution_count": 6,
     "metadata": {},
     "output_type": "execute_result"
    }
   ],
   "source": [
    "client = Client(\"192.168.1.26:8786\")\n",
    "dask_address = str(client.scheduler).split(\"'\")[1]\n",
    "executor = DaskExecutor(address=dask_address)\n",
    "client"
   ]
  },
  {
   "cell_type": "markdown",
   "metadata": {
    "pycharm": {
     "name": "#%% md\n"
    }
   },
   "source": [
    "# Scrape Events Flow"
   ]
  },
  {
   "cell_type": "code",
   "execution_count": 12,
   "metadata": {
    "collapsed": false,
    "execution": {
     "iopub.execute_input": "2021-01-06T04:31:56.998457Z",
     "iopub.status.busy": "2021-01-06T04:31:56.998267Z",
     "iopub.status.idle": "2021-01-06T04:31:57.484861Z",
     "shell.execute_reply": "2021-01-06T04:31:57.484324Z",
     "shell.execute_reply.started": "2021-01-06T04:31:56.998438Z"
    },
    "jupyter": {
     "outputs_hidden": false
    },
    "pycharm": {
     "name": "#%%\n"
    }
   },
   "outputs": [
    {
     "name": "stdout",
     "output_type": "stream",
     "text": [
      "Result check: OK\n",
      "Flow URL: http://localhost:8080/default/flow/591dbcfe-2051-44d2-9901-68f435aefc82\n",
      " └── ID: db52be27-164e-4d57-b530-f10888264251\n",
      " └── Project: scrape-ufcstats\n",
      " └── Labels: ['Mac-mini.local']\n"
     ]
    },
    {
     "data": {
      "text/plain": [
       "'db52be27-164e-4d57-b530-f10888264251'"
      ]
     },
     "execution_count": 12,
     "metadata": {},
     "output_type": "execute_result"
    }
   ],
   "source": [
    "event_schedule = Schedule([IntervalClock(start_date=pendulum.datetime(2020, 12, 13, 6, tz=\"America/Los_Angeles\"),\n",
    "                               interval=timedelta(days=7))])\n",
    "\n",
    "shell_task = ShellTask(helper_script=\"cd scrapy_ufcstats\")\n",
    "\n",
    "with Flow(\"Scrape Events\", executor=executor, schedule=event_schedule) as f: \n",
    "    date_today = datetime.now().date()\n",
    "    scrapy_crawl_events_cmd = f\"scrapy crawl events -O ../data/events/event_urls_{date_today}.csv\"\n",
    "    shell_task(command=scrapy_crawl_events_cmd)\n",
    "f.register(\"scrape-ufcstats\")\n"
   ]
  },
  {
   "cell_type": "code",
   "execution_count": 8,
   "metadata": {
    "collapsed": false,
    "execution": {
     "iopub.execute_input": "2021-01-06T04:26:03.309799Z",
     "iopub.status.busy": "2021-01-06T04:26:03.309611Z",
     "iopub.status.idle": "2021-01-06T04:26:03.367456Z",
     "shell.execute_reply": "2021-01-06T04:26:03.366045Z",
     "shell.execute_reply.started": "2021-01-06T04:26:03.309779Z"
    },
    "jupyter": {
     "outputs_hidden": false
    },
    "pycharm": {
     "name": "#%%\n"
    }
   },
   "outputs": [
    {
     "name": "stdout",
     "output_type": "stream",
     "text": [
      "['environment.yml', 'scrapy.cfg', 'scrapy_ufcstats']\n",
      "[2021-01-05 20:26:03-0800] INFO - prefect.FlowRunner | Beginning Flow run for 'test'\n"
     ]
    },
    {
     "name": "stderr",
     "output_type": "stream",
     "text": [
      "distributed.comm.tcp - WARNING - Closing dangling stream in <TCP  local=tcp://192.168.1.26:60439 remote=tcp://192.168.1.26:8786>\n"
     ]
    },
    {
     "name": "stdout",
     "output_type": "stream",
     "text": [
      "[2021-01-05 20:26:03-0800] INFO - prefect.FlowRunner | Flow run SUCCESS: all reference tasks succeeded\n"
     ]
    }
   ],
   "source": [
    "my_task = ShellTask(helper_script=\"cd scrapy_ufcstats\", return_all=True, stream_output=True)\n",
    "\n",
    "with Flow(\"test\", executor=executor) as f:\n",
    "    output = my_task.run(command=\"ls\")\n",
    "    print(output)\n",
    "\n",
    "flow_state = f.run() # flow_state is a `State` object\n"
   ]
  },
  {
   "cell_type": "code",
   "execution_count": null,
   "metadata": {
    "collapsed": false,
    "jupyter": {
     "outputs_hidden": false
    },
    "pycharm": {
     "name": "#%%\n"
    }
   },
   "outputs": [],
   "source": []
  }
 ],
 "metadata": {
  "kernelspec": {
   "display_name": "Python 3",
   "language": "python",
   "name": "python3"
  },
  "language_info": {
   "codemirror_mode": {
    "name": "ipython",
    "version": 3
   },
   "file_extension": ".py",
   "mimetype": "text/x-python",
   "name": "python",
   "nbconvert_exporter": "python",
   "pygments_lexer": "ipython3",
   "version": "3.8.5"
  }
 },
 "nbformat": 4,
 "nbformat_minor": 4
}

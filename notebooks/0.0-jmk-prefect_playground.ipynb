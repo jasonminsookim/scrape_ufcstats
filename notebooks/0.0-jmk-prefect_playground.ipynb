{
 "cells": [
  {
   "cell_type": "markdown",
   "metadata": {
    "pycharm": {
     "name": "#%% md\n"
    }
   },
   "source": [
    "# Import Libraries"
   ]
  },
  {
   "cell_type": "code",
   "execution_count": 52,
   "outputs": [],
   "source": [
    "from prefect import Flow, task\n",
    "from prefect.tasks.shell import ShellTask\n",
    "from prefect.schedules.clocks import IntervalClock\n",
    "from prefect.schedules import Schedule\n",
    "\n",
    "from datetime import datetime, timedelta\n",
    "import pendulum\n",
    "import os\n",
    "cwd = os.getcwd().split(\"/\")[-1]\n",
    "if cwd == \"notebooks\":\n",
    "    os.chdir(\"../\")"
   ],
   "metadata": {
    "collapsed": false,
    "pycharm": {
     "name": "#%%\n"
    }
   }
  },
  {
   "cell_type": "markdown",
   "source": [
    "# Scrape Events Flow"
   ],
   "metadata": {
    "collapsed": false,
    "pycharm": {
     "name": "#%% md\n"
    }
   }
  },
  {
   "cell_type": "code",
   "execution_count": 51,
   "outputs": [
    {
     "name": "stdout",
     "output_type": "stream",
     "text": [
      "Result check: OK\n",
      "Flow URL: http://localhost:8080/default/flow/ce2d2560-4667-4c9e-a63c-9ded3491aa2a\n",
      " └── ID: 4d6228d2-c425-43cb-bb26-1ec63eeb1628\n",
      " └── Project: scrape_ufcstats\n",
      " └── Labels: ['Mac-mini.local']\n"
     ]
    },
    {
     "data": {
      "text/plain": "'4d6228d2-c425-43cb-bb26-1ec63eeb1628'"
     },
     "execution_count": 51,
     "metadata": {},
     "output_type": "execute_result"
    }
   ],
   "source": [
    "event_schedule = Schedule([IntervalClock(start_date=pendulum.datetime(2020, 12, 13, 6, tz=\"America/Los_Angeles\"),\n",
    "                               interval=timedelta(days=7))])\n",
    "\n",
    "shell_task = ShellTask(helper_script=\"cd scrapy_ufcstats\")\n",
    "\n",
    "with Flow(\"Scrape Events\", event_schedule) as f:\n",
    "    date_today = datetime.now().date()\n",
    "    scrapy_crawl_events_cmd = f\"scrapy crawl events -O ../data/events/event_urls_{date_today}.csv \" \\\n",
    "                              f\"-O ../data/events/latest_event_urls.csv\"\n",
    "    shell_task(scrapy_crawl_events_cmd)\n",
    "f.register(\"scrape_ufcstats\")\n"
   ],
   "metadata": {
    "collapsed": false,
    "pycharm": {
     "name": "#%%\n"
    }
   }
  },
  {
   "cell_type": "code",
   "execution_count": null,
   "outputs": [],
   "source": [],
   "metadata": {
    "collapsed": false,
    "pycharm": {
     "name": "#%%\n"
    }
   }
  }
 ],
 "metadata": {
  "kernelspec": {
   "display_name": "Python 3",
   "language": "python",
   "name": "python3"
  },
  "language_info": {
   "codemirror_mode": {
    "name": "ipython",
    "version": 3
   },
   "file_extension": ".py",
   "mimetype": "text/x-python",
   "name": "python",
   "nbconvert_exporter": "python",
   "pygments_lexer": "ipython3",
   "version": "3.8.5"
  }
 },
 "nbformat": 4,
 "nbformat_minor": 4
}
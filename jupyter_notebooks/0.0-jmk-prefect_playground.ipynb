{
 "cells": [
  {
   "cell_type": "markdown",
   "metadata": {
    "pycharm": {
     "name": "#%% md\n"
    }
   },
   "source": [
    "# Import Libraries"
   ]
  },
  {
   "cell_type": "code",
   "execution_count": 11,
   "metadata": {
    "collapsed": false,
    "execution": {
     "iopub.execute_input": "2021-01-16T06:26:38.960327Z",
     "iopub.status.busy": "2021-01-16T06:26:38.960128Z",
     "iopub.status.idle": "2021-01-16T06:26:38.997955Z",
     "shell.execute_reply": "2021-01-16T06:26:38.997309Z",
     "shell.execute_reply.started": "2021-01-16T06:26:38.960306Z"
    },
    "jupyter": {
     "outputs_hidden": false
    },
    "pycharm": {
     "name": "#%%\n"
    }
   },
   "outputs": [
    {
     "name": "stdout",
     "output_type": "stream",
     "text": [
      "The autoreload extension is already loaded. To reload it, use:\n",
      "  %reload_ext autoreload\n"
     ]
    }
   ],
   "source": [
    "%load_ext autoreload\n",
    "%autoreload 2\n",
    "\n",
    "\n",
    "from prefect import Flow, task\n",
    "from prefect.tasks.shell import ShellTask\n",
    "from prefect.schedules import Schedule\n",
    "from dask.distributed import Client\n",
    "from prefect.executors import LocalDaskExecutor\n",
    "\n",
    "import os\n",
    "import sys\n",
    "import pandas as pd\n",
    "\n",
    "module_path = os.path.abspath(os.path.join(\"..\"))\n",
    "if module_path not in sys.path:\n",
    "    sys.path.append(module_path)\n",
    "from src.data import io\n",
    "\n",
    "cwd = os.getcwd().split(\"/\")[-1]\n",
    "if cwd == \"jupyter_notebooks\":\n",
    "    os.chdir(\"../\")"
   ]
  },
  {
   "cell_type": "code",
   "execution_count": 12,
   "metadata": {
    "execution": {
     "iopub.execute_input": "2021-01-16T06:26:39.891082Z",
     "iopub.status.busy": "2021-01-16T06:26:39.890892Z",
     "iopub.status.idle": "2021-01-16T06:26:39.920015Z",
     "shell.execute_reply": "2021-01-16T06:26:39.919366Z",
     "shell.execute_reply.started": "2021-01-16T06:26:39.891063Z"
    }
   },
   "outputs": [],
   "source": [
    "executor=LocalDaskExecutor()"
   ]
  },
  {
   "cell_type": "markdown",
   "metadata": {
    "pycharm": {
     "name": "#%% md\n"
    }
   },
   "source": [
    "# Scrape Events Flow"
   ]
  },
  {
   "cell_type": "code",
   "execution_count": 15,
   "metadata": {
    "collapsed": false,
    "execution": {
     "iopub.execute_input": "2021-01-16T06:33:07.194747Z",
     "iopub.status.busy": "2021-01-16T06:33:07.194521Z",
     "iopub.status.idle": "2021-01-16T06:33:44.650033Z",
     "shell.execute_reply": "2021-01-16T06:33:44.649393Z",
     "shell.execute_reply.started": "2021-01-16T06:33:07.194723Z"
    },
    "jupyter": {
     "outputs_hidden": false
    },
    "pycharm": {
     "name": "#%%\n"
    }
   },
   "outputs": [
    {
     "name": "stdout",
     "output_type": "stream",
     "text": [
      "[2021-01-15 22:33:07-0800] INFO - prefect.FlowRunner | Beginning Flow run for 'Scrape Events'\n",
      "[2021-01-15 22:33:07-0800] INFO - prefect.TaskRunner | Task 'ShellTask': Starting task run...\n",
      "[2021-01-15 22:33:07-0800] INFO - prefect.TaskRunner | Task 'connect_postgres': Starting task run...\n",
      "[2021-01-15 22:33:07-0800] INFO - prefect.connect_postgres | Connecting to the PostgreSQL database fightdata ...\n",
      "[2021-01-15 22:33:07-0800] INFO - prefect.connect_postgres | Connection to db successful.\n",
      "[2021-01-15 22:33:07-0800] INFO - prefect.TaskRunner | Task 'connect_postgres': Finished task run for task with final state: 'Success'\n",
      "[2021-01-15 22:33:44-0800] INFO - prefect.TaskRunner | Task 'ShellTask': Finished task run for task with final state: 'Success'\n",
      "[2021-01-15 22:33:44-0800] INFO - prefect.TaskRunner | Task 'read_csv': Starting task run...\n",
      "[2021-01-15 22:33:44-0800] INFO - prefect.TaskRunner | Task 'read_csv': Finished task run for task with final state: 'Success'\n",
      "[2021-01-15 22:33:44-0800] INFO - prefect.TaskRunner | Task 'df_to_table': Starting task run...\n",
      "[2021-01-15 22:33:44-0800] INFO - prefect.df_to_table | Moving df to postgres event_urls table ...\n",
      "[2021-01-15 22:33:44-0800] INFO - prefect.TaskRunner | Task 'df_to_table': Finished task run for task with final state: 'Success'\n",
      "[2021-01-15 22:33:44-0800] INFO - prefect.FlowRunner | Flow run SUCCESS: all reference tasks succeeded\n"
     ]
    },
    {
     "data": {
      "text/plain": [
       "<Success: \"All reference tasks succeeded.\">"
      ]
     },
     "execution_count": 15,
     "metadata": {},
     "output_type": "execute_result"
    }
   ],
   "source": [
    "event_schedule = Schedule([IntervalClock(start_date=pendulum.datetime(2020, 12, 13, 6, tz=\"America/Los_Angeles\"),\n",
    "                               interval=timedelta(days=7))])\n",
    "\n",
    "shell_task = ShellTask(helper_script=\"cd scrapy_ufcstats\")\n",
    "\n",
    "with Flow(\"Scrape Events\", executor=executor) as f: #schedule=event_schedule\n",
    "    # Scrapy crawls events and save the URLs as a csv.\n",
    "    scrapy_crawl_events_cmd = f\"scrapy crawl events -O ../data/events/event_urls.csv\"\n",
    "    scrapy_shell_task = shell_task(command=scrapy_crawl_events_cmd)\n",
    "    \n",
    "    # Reads the scraped event_urls and uploads them to a postgres table.\n",
    "    event_urls_df = io.read_csv(\"data/events/event_urls.csv\", upstream_tasks=[scrapy_shell_task])\n",
    "    \n",
    "    # Adds the date the URL was scraped.\n",
    "    \n",
    "    \n",
    "    # Creates a sqlalchemy engine.\n",
    "    engine = io.connect_postgres()\n",
    "    \n",
    "    # Copies the recently scraped events_df to a postgres table.\n",
    "    io.df_to_table(df=event_urls_df, engine=engine, table_name=\"event_urls\")\n",
    "    \n",
    "    \n",
    "f.run()    \n",
    "#f.register(\"scrape-ufcstats\")\n"
   ]
  },
  {
   "cell_type": "code",
   "execution_count": 7,
   "metadata": {
    "collapsed": false,
    "execution": {
     "iopub.execute_input": "2021-01-16T06:05:16.215288Z",
     "iopub.status.busy": "2021-01-16T06:05:16.215107Z",
     "iopub.status.idle": "2021-01-16T06:05:16.313002Z",
     "shell.execute_reply": "2021-01-16T06:05:16.312115Z",
     "shell.execute_reply.started": "2021-01-16T06:05:16.215270Z"
    },
    "jupyter": {
     "outputs_hidden": false
    },
    "pycharm": {
     "name": "#%%\n"
    }
   },
   "outputs": [
    {
     "name": "stdout",
     "output_type": "stream",
     "text": [
      "[2021-01-15 22:05:16-0800] INFO - prefect.FlowRunner | Beginning Flow run for 'Test'\n",
      "[2021-01-15 22:05:16-0800] INFO - prefect.TaskRunner | Task 'connect_postgres': Starting task run...\n",
      "[2021-01-15 22:05:16-0800] INFO - prefect.connect_postgres | Connecting to the PostgreSQL database fightdata ...\n",
      "[2021-01-15 22:05:16-0800] INFO - prefect.connect_postgres | Connection to db successful.\n",
      "[2021-01-15 22:05:16-0800] INFO - prefect.TaskRunner | Task 'connect_postgres': Finished task run for task with final state: 'Success'\n",
      "[2021-01-15 22:05:16-0800] INFO - prefect.FlowRunner | Flow run SUCCESS: all reference tasks succeeded\n"
     ]
    },
    {
     "data": {
      "text/plain": [
       "<Success: \"All reference tasks succeeded.\">"
      ]
     },
     "execution_count": 7,
     "metadata": {},
     "output_type": "execute_result"
    }
   ],
   "source": [
    "with Flow(\"Test\", executor=executor) as f:\n",
    "    conn = io.connect_postgres()\n",
    "# Registers the Flow to the Prefect project.\n",
    "#f.register(\"scrape-ufcstats\")\n",
    "f.run()"
   ]
  },
  {
   "cell_type": "code",
   "execution_count": null,
   "metadata": {
    "collapsed": false,
    "jupyter": {
     "outputs_hidden": false
    },
    "pycharm": {
     "name": "#%%\n"
    }
   },
   "outputs": [],
   "source": []
  }
 ],
 "metadata": {
  "kernelspec": {
   "display_name": "Python 3",
   "language": "python",
   "name": "python3"
  },
  "language_info": {
   "codemirror_mode": {
    "name": "ipython",
    "version": 3
   },
   "file_extension": ".py",
   "mimetype": "text/x-python",
   "name": "python",
   "nbconvert_exporter": "python",
   "pygments_lexer": "ipython3",
   "version": "3.8.5"
  }
 },
 "nbformat": 4,
 "nbformat_minor": 4
}

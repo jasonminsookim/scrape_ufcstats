{
 "cells": [
  {
   "cell_type": "markdown",
   "metadata": {
    "pycharm": {
     "name": "#%% md\n"
    }
   },
   "source": [
    "# Import Libraries"
   ]
  },
  {
   "cell_type": "code",
   "execution_count": 1,
   "metadata": {
    "collapsed": false,
    "execution": {
     "iopub.execute_input": "2021-01-06T05:25:58.502150Z",
     "iopub.status.busy": "2021-01-06T05:25:58.501908Z",
     "iopub.status.idle": "2021-01-06T05:25:58.537233Z",
     "shell.execute_reply": "2021-01-06T05:25:58.536409Z",
     "shell.execute_reply.started": "2021-01-06T05:25:58.502123Z"
    },
    "jupyter": {
     "outputs_hidden": false
    },
    "pycharm": {
     "name": "#%%\n"
    }
   },
   "outputs": [],
   "source": [
    "%load_ext autoreload\n",
    "%autoreload 2\n",
    "\n",
    "\n",
    "from prefect import Flow, task\n",
    "from prefect.tasks.shell import ShellTask\n",
    "from prefect.schedules.clocks import IntervalClock\n",
    "from prefect.schedules import Schedule\n",
    "from dask.distributed import Client\n",
    "from prefect.executors import LocalDaskExecutor\n",
    "\n",
    "from datetime import datetime, timedelta\n",
    "import pendulum\n",
    "import os\n",
    "import sys\n",
    "import pandas as pd\n",
    "\n",
    "module_path = os.path.abspath(os.path.join(\"..\"))\n",
    "if module_path not in sys.path:\n",
    "    sys.path.append(module_path)\n",
    "from src.data import io\n",
    "\n",
    "cwd = os.getcwd().split(\"/\")[-1]\n",
    "if cwd == \"notebooks\":\n",
    "    os.chdir(\"../\")"
   ]
  },
  {
   "cell_type": "code",
   "execution_count": 2,
   "metadata": {
    "execution": {
     "iopub.execute_input": "2021-01-06T05:25:58.729602Z",
     "iopub.status.busy": "2021-01-06T05:25:58.729401Z",
     "iopub.status.idle": "2021-01-06T05:25:58.757461Z",
     "shell.execute_reply": "2021-01-06T05:25:58.756664Z",
     "shell.execute_reply.started": "2021-01-06T05:25:58.729581Z"
    }
   },
   "outputs": [],
   "source": [
    "executor=LocalDaskExecutor()"
   ]
  },
  {
   "cell_type": "markdown",
   "metadata": {
    "pycharm": {
     "name": "#%% md\n"
    }
   },
   "source": [
    "# Scrape Events Flow"
   ]
  },
  {
   "cell_type": "code",
   "execution_count": 3,
   "metadata": {
    "collapsed": false,
    "execution": {
     "iopub.execute_input": "2021-01-06T05:27:34.066591Z",
     "iopub.status.busy": "2021-01-06T05:27:34.066398Z",
     "iopub.status.idle": "2021-01-06T05:27:34.627766Z",
     "shell.execute_reply": "2021-01-06T05:27:34.625626Z",
     "shell.execute_reply.started": "2021-01-06T05:27:34.066570Z"
    },
    "jupyter": {
     "outputs_hidden": false
    },
    "pycharm": {
     "name": "#%%\n"
    }
   },
   "outputs": [
    {
     "name": "stdout",
     "output_type": "stream",
     "text": [
      "Result check: OK\n",
      "Flow URL: https://cloud.prefect.io/jasonminsookim-gmail-com-s-account/flow/ca3bd7bb-4682-46d9-b4aa-6dab42a2cccd\n",
      " └── ID: 3c693644-37df-428e-998d-7923c3311270\n",
      " └── Project: scrape-ufcstats\n",
      " └── Labels: ['Mac-mini.local']\n"
     ]
    },
    {
     "data": {
      "text/plain": [
       "'3c693644-37df-428e-998d-7923c3311270'"
      ]
     },
     "execution_count": 3,
     "metadata": {},
     "output_type": "execute_result"
    }
   ],
   "source": [
    "event_schedule = Schedule([IntervalClock(start_date=pendulum.datetime(2020, 12, 13, 6, tz=\"America/Los_Angeles\"),\n",
    "                               interval=timedelta(days=7))])\n",
    "\n",
    "shell_task = ShellTask(helper_script=\"cd scrapy_ufcstats\")\n",
    "\n",
    "with Flow(\"Scrape Events\", executor=executor, schedule=event_schedule) as f: \n",
    "    date_today = datetime.now().date()\n",
    "    scrapy_crawl_events_cmd = f\"scrapy crawl events -O ../data/events/event_urls_{date_today}.csv\"\n",
    "    shell_task(command=scrapy_crawl_events_cmd)\n",
    "    \n",
    "    csv_file_names = io.get_filenames(path=\"data/events/\", extension=\"csv\")\n",
    "    csv_file_names_arr = io.arr_to_series(csv_file_names)\n",
    "    string_dates_arr = io.get_string_date(csv_file_names_arr)\n",
    "    io.get_max_date(string_dates_arr)\n",
    "    \n",
    "f.register(\"scrape-ufcstats\")\n"
   ]
  },
  {
   "cell_type": "code",
   "execution_count": 1,
   "metadata": {
    "collapsed": false,
    "execution": {
     "iopub.execute_input": "2021-01-06T05:05:56.742141Z",
     "iopub.status.busy": "2021-01-06T05:05:56.741884Z",
     "iopub.status.idle": "2021-01-06T05:05:56.974562Z",
     "shell.execute_reply": "2021-01-06T05:05:56.974062Z",
     "shell.execute_reply.started": "2021-01-06T05:05:56.742114Z"
    },
    "jupyter": {
     "outputs_hidden": false
    },
    "pycharm": {
     "name": "#%%\n"
    }
   },
   "outputs": [
    {
     "ename": "NameError",
     "evalue": "name 'Flow' is not defined",
     "output_type": "error",
     "traceback": [
      "\u001b[0;31m---------------------------------------------------------------------------\u001b[0m",
      "\u001b[0;31mNameError\u001b[0m                                 Traceback (most recent call last)",
      "\u001b[0;32m<ipython-input-1-14ec66ee7926>\u001b[0m in \u001b[0;36m<module>\u001b[0;34m\u001b[0m\n\u001b[0;32m----> 1\u001b[0;31m \u001b[0;32mwith\u001b[0m \u001b[0mFlow\u001b[0m\u001b[0;34m(\u001b[0m\u001b[0;34m\"Test\"\u001b[0m\u001b[0;34m,\u001b[0m \u001b[0mexecutor\u001b[0m\u001b[0;34m=\u001b[0m\u001b[0mexecutor\u001b[0m\u001b[0;34m)\u001b[0m \u001b[0;32mas\u001b[0m \u001b[0mf\u001b[0m\u001b[0;34m:\u001b[0m\u001b[0;34m\u001b[0m\u001b[0;34m\u001b[0m\u001b[0m\n\u001b[0m\u001b[1;32m      2\u001b[0m     \u001b[0mio\u001b[0m\u001b[0;34m.\u001b[0m\u001b[0mconnect_postgres\u001b[0m\u001b[0;34m(\u001b[0m\u001b[0;34m)\u001b[0m\u001b[0;34m\u001b[0m\u001b[0;34m\u001b[0m\u001b[0m\n\u001b[1;32m      3\u001b[0m \u001b[0;31m# Registers the Flow to the Prefect project.\u001b[0m\u001b[0;34m\u001b[0m\u001b[0;34m\u001b[0m\u001b[0;34m\u001b[0m\u001b[0m\n\u001b[1;32m      4\u001b[0m \u001b[0;31m#f.register(\"scrape-ufcstats\")\u001b[0m\u001b[0;34m\u001b[0m\u001b[0;34m\u001b[0m\u001b[0;34m\u001b[0m\u001b[0m\n\u001b[1;32m      5\u001b[0m \u001b[0mf\u001b[0m\u001b[0;34m.\u001b[0m\u001b[0mrun\u001b[0m\u001b[0;34m(\u001b[0m\u001b[0;34m)\u001b[0m\u001b[0;34m\u001b[0m\u001b[0;34m\u001b[0m\u001b[0m\n",
      "\u001b[0;31mNameError\u001b[0m: name 'Flow' is not defined"
     ]
    }
   ],
   "source": [
    "with Flow(\"Test\", executor=executor) as f:\n",
    "    conn = io.connect_postgres()\n",
    "# Registers the Flow to the Prefect project.\n",
    "#f.register(\"scrape-ufcstats\")\n",
    "f.run()\n",
    "\n"
   ]
  },
  {
   "cell_type": "code",
   "execution_count": null,
   "metadata": {
    "collapsed": false,
    "jupyter": {
     "outputs_hidden": false
    },
    "pycharm": {
     "name": "#%%\n"
    }
   },
   "outputs": [],
   "source": []
  }
 ],
 "metadata": {
  "kernelspec": {
   "display_name": "Python 3",
   "language": "python",
   "name": "python3"
  },
  "language_info": {
   "codemirror_mode": {
    "name": "ipython",
    "version": 3
   },
   "file_extension": ".py",
   "mimetype": "text/x-python",
   "name": "python",
   "nbconvert_exporter": "python",
   "pygments_lexer": "ipython3",
   "version": "3.8.5"
  }
 },
 "nbformat": 4,
 "nbformat_minor": 4
}

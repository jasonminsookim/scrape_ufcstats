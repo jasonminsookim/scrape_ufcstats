{
 "cells": [
  {
   "cell_type": "markdown",
   "metadata": {
    "pycharm": {
     "name": "#%% md\n"
    }
   },
   "source": [
    "# Import Libraries"
   ]
  },
  {
   "cell_type": "code",
   "execution_count": 1,
   "metadata": {
    "collapsed": false,
    "execution": {
     "iopub.execute_input": "2021-01-16T07:23:08.258068Z",
     "iopub.status.busy": "2021-01-16T07:23:08.257818Z",
     "iopub.status.idle": "2021-01-16T07:23:09.493791Z",
     "shell.execute_reply": "2021-01-16T07:23:09.492893Z",
     "shell.execute_reply.started": "2021-01-16T07:23:08.258014Z"
    },
    "jupyter": {
     "outputs_hidden": false
    },
    "pycharm": {
     "name": "#%%\n"
    }
   },
   "outputs": [],
   "source": [
    "%load_ext autoreload\n",
    "%autoreload 2\n",
    "\n",
    "\n",
    "from prefect import Flow, task\n",
    "from prefect.tasks.shell import ShellTask\n",
    "from prefect.schedules import Schedule\n",
    "from datetime import timedelta\n",
    "from dask.distributed import Client\n",
    "from prefect.executors import LocalDaskExecutor\n",
    "from prefect.schedules.clocks import IntervalClock\n",
    "import pendulum\n",
    "\n",
    "import os\n",
    "import sys\n",
    "import pandas as pd\n",
    "\n",
    "module_path = os.path.abspath(os.path.join(\"..\"))\n",
    "if module_path not in sys.path:\n",
    "    sys.path.append(module_path)\n",
    "from src.data import io\n",
    "\n",
    "cwd = os.getcwd().split(\"/\")[-1]\n",
    "if cwd == \"jupyter_notebooks\":\n",
    "    os.chdir(\"../\")"
   ]
  },
  {
   "cell_type": "code",
   "execution_count": 2,
   "metadata": {
    "execution": {
     "iopub.execute_input": "2021-01-16T07:23:09.495607Z",
     "iopub.status.busy": "2021-01-16T07:23:09.495400Z",
     "iopub.status.idle": "2021-01-16T07:23:09.524717Z",
     "shell.execute_reply": "2021-01-16T07:23:09.524155Z",
     "shell.execute_reply.started": "2021-01-16T07:23:09.495585Z"
    }
   },
   "outputs": [],
   "source": [
    "executor=LocalDaskExecutor()"
   ]
  },
  {
   "cell_type": "markdown",
   "metadata": {
    "pycharm": {
     "name": "#%% md\n"
    }
   },
   "source": [
    "# Scrape Events Flow"
   ]
  },
  {
   "cell_type": "code",
   "execution_count": 3,
   "metadata": {
    "collapsed": false,
    "execution": {
     "iopub.execute_input": "2021-01-16T07:23:09.525956Z",
     "iopub.status.busy": "2021-01-16T07:23:09.525781Z",
     "iopub.status.idle": "2021-01-16T07:23:12.813863Z",
     "shell.execute_reply": "2021-01-16T07:23:12.813367Z",
     "shell.execute_reply.started": "2021-01-16T07:23:09.525937Z"
    },
    "jupyter": {
     "outputs_hidden": false
    },
    "pycharm": {
     "name": "#%%\n"
    }
   },
   "outputs": [
    {
     "name": "stdout",
     "output_type": "stream",
     "text": [
      "Result check: OK\n",
      "Flow URL: https://cloud.prefect.io/jasonminsookim-gmail-com-s-account/flow/ca3bd7bb-4682-46d9-b4aa-6dab42a2cccd\n",
      " └── ID: 47da1385-c4d0-4066-8069-3bfc6031b224\n",
      " └── Project: scrape-ufcstats\n",
      " └── Labels: ['Mac-mini.local']\n"
     ]
    },
    {
     "data": {
      "text/plain": [
       "'47da1385-c4d0-4066-8069-3bfc6031b224'"
      ]
     },
     "execution_count": 3,
     "metadata": {},
     "output_type": "execute_result"
    }
   ],
   "source": [
    "event_schedule = Schedule([IntervalClock(start_date=pendulum.datetime(2020, 12, 13, 6, tz=\"America/Los_Angeles\"),\n",
    "                               interval=timedelta(days=7))])\n",
    "\n",
    "shell_task = ShellTask(helper_script=\"cd scrapy_ufcstats\")\n",
    "\n",
    "with Flow(\"Scrape Events\", executor=executor, schedule=event_schedule) as f: \n",
    "    # Scrapy crawls events and save the URLs as a csv.\n",
    "    scrapy_crawl_events_cmd = f\"scrapy crawl events -O ../data/events/event_urls.csv\"\n",
    "    scrapy_shell_task = shell_task(command=scrapy_crawl_events_cmd)\n",
    "    \n",
    "    # Reads the scraped event_urls and uploads them to a postgres table.\n",
    "    event_urls_df = io.read_csv(\"data/events/event_urls.csv\", upstream_tasks=[scrapy_shell_task])\n",
    "    \n",
    "    # Copies the recently scraped events_df to a postgres table.\n",
    "    io.df_to_table(df=event_urls_df, table_name=\"event_urls\")\n",
    "\n",
    "    \n",
    "f.register(\"scrape-ufcstats\")"
   ]
  }
 ],
 "metadata": {
  "kernelspec": {
   "display_name": "Python 3",
   "language": "python",
   "name": "python3"
  },
  "language_info": {
   "codemirror_mode": {
    "name": "ipython",
    "version": 3
   },
   "file_extension": ".py",
   "mimetype": "text/x-python",
   "name": "python",
   "nbconvert_exporter": "python",
   "pygments_lexer": "ipython3",
   "version": "3.8.5"
  }
 },
 "nbformat": 4,
 "nbformat_minor": 4
}

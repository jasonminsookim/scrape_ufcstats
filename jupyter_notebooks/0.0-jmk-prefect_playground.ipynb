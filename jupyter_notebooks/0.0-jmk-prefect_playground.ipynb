{
 "cells": [
  {
   "cell_type": "markdown",
   "metadata": {
    "pycharm": {
     "name": "#%% md\n"
    }
   },
   "source": [
    "# 0. Import Libraries and Initialize Local Dask Executor"
   ]
  },
  {
   "cell_type": "code",
   "execution_count": 5,
   "metadata": {
    "collapsed": false,
    "execution": {
     "iopub.execute_input": "2021-01-16T03:53:29.033683Z",
     "iopub.status.busy": "2021-01-16T03:53:29.033396Z",
     "iopub.status.idle": "2021-01-16T03:53:29.457409Z",
     "shell.execute_reply": "2021-01-16T03:53:29.456907Z",
     "shell.execute_reply.started": "2021-01-16T03:53:29.033655Z"
    },
    "jupyter": {
     "outputs_hidden": false
    },
    "pycharm": {
     "name": "#%%\n"
    }
   },
   "outputs": [
    {
     "name": "stdout",
     "output_type": "stream",
     "text": [
      "The autoreload extension is already loaded. To reload it, use:\n",
      "  %reload_ext autoreload\n"
     ]
    }
   ],
   "source": [
    "%load_ext autoreload\n",
    "%autoreload 2\n",
    "\n",
    "\n",
    "from prefect import Flow, task\n",
    "from prefect.tasks.shell import ShellTask\n",
    "from prefect.schedules.clocks import IntervalClock\n",
    "from prefect.schedules import Schedule\n",
    "from dask.distributed import Client\n",
    "from prefect.executors import LocalDaskExecutor\n",
    "\n",
    "from datetime import datetime, timedelta\n",
    "import pendulum\n",
    "import os\n",
    "import sys\n",
    "import pandas as pd\n",
    "\n",
    "module_path = os.path.abspath(os.path.join(\"..\"))\n",
    "if module_path not in sys.path:\n",
    "    sys.path.append(module_path)\n",
    "from src.data import io\n",
    "\n",
    "cwd = os.getcwd().split(\"/\")[-1]\n",
    "if cwd == \"jupyter_notebooks\":\n",
    "    os.chdir(\"../\")"
   ]
  },
  {
   "cell_type": "code",
   "execution_count": 3,
   "metadata": {
    "execution": {
     "iopub.execute_input": "2021-01-16T03:37:27.167988Z",
     "iopub.status.busy": "2021-01-16T03:37:27.167800Z",
     "iopub.status.idle": "2021-01-16T03:37:27.197638Z",
     "shell.execute_reply": "2021-01-16T03:37:27.196494Z",
     "shell.execute_reply.started": "2021-01-16T03:37:27.167969Z"
    }
   },
   "outputs": [],
   "source": [
    "executor = LocalDaskExecutor()"
   ]
  },
  {
   "cell_type": "markdown",
   "metadata": {},
   "source": [
    "# 1. Scrape ufcstats.com"
   ]
  },
  {
   "cell_type": "markdown",
   "metadata": {
    "pycharm": {
     "name": "#%% md\n"
    }
   },
   "source": [
    "## 1.1 Scrape Events Flow"
   ]
  },
  {
   "cell_type": "code",
   "execution_count": 4,
   "metadata": {
    "collapsed": false,
    "execution": {
     "iopub.execute_input": "2021-01-16T03:37:27.724082Z",
     "iopub.status.busy": "2021-01-16T03:37:27.723899Z",
     "iopub.status.idle": "2021-01-16T03:37:34.569983Z",
     "shell.execute_reply": "2021-01-16T03:37:34.569382Z",
     "shell.execute_reply.started": "2021-01-16T03:37:27.724063Z"
    },
    "jupyter": {
     "outputs_hidden": false
    },
    "pycharm": {
     "name": "#%%\n"
    }
   },
   "outputs": [
    {
     "name": "stdout",
     "output_type": "stream",
     "text": [
      "Result check: OK\n",
      "Flow URL: https://cloud.prefect.io/jasonminsookim-gmail-com-s-account/flow/ca3bd7bb-4682-46d9-b4aa-6dab42a2cccd\n",
      " └── ID: 39a50dc2-dee4-469f-8894-d30d9b77f421\n",
      " └── Project: scrape-ufcstats\n",
      " └── Labels: ['Mac-mini.local']\n"
     ]
    },
    {
     "data": {
      "text/plain": [
       "'39a50dc2-dee4-469f-8894-d30d9b77f421'"
      ]
     },
     "execution_count": 4,
     "metadata": {},
     "output_type": "execute_result"
    }
   ],
   "source": [
    "# Sets a Schedule for the Flow to run every Sunday at 6:00 am.\n",
    "event_schedule = Schedule(\n",
    "    [\n",
    "        IntervalClock(\n",
    "            start_date=pendulum.datetime(2020, 12, 13, 6, tz=\"America/Los_Angeles\"),\n",
    "            interval=timedelta(days=7),\n",
    "        )\n",
    "    ]\n",
    ")\n",
    "\n",
    "# Instanciates a ShellTask.\n",
    "shell_task = ShellTask(helper_script=\"cd scrapy_ufcstats\")\n",
    "\n",
    "with Flow(\"Scrape Events\", executor=executor, schedule=event_schedule) as f:\n",
    "    # Gets today's date.\n",
    "    date_today = datetime.now().date()\n",
    "\n",
    "    # Scrapy crawl ufc.com's event URLs.\n",
    "    scrapy_crawl_events_cmd = (\n",
    "        f\"scrapy crawl events -O ../data/events/event_urls_{date_today}.csv\"\n",
    "    )\n",
    "    shell_task_command = shell_task(command=scrapy_crawl_events_cmd)\n",
    "\n",
    "    # Extracts the file names of the .csv files located in the path and then gets the most recent date and logs it into prefect.\n",
    "    csv_file_names = io.get_filenames(\n",
    "        path=\"data/events/\", extension=\"csv\", upstream_tasks=[shell_task_command]\n",
    "    )\n",
    "    csv_file_names_arr = io.arr_to_series(csv_file_names)\n",
    "    string_dates_arr = io.get_string_date(csv_file_names_arr)\n",
    "    io.get_max_date(string_dates_arr)\n",
    "\n",
    "# Registers the Flow to the Prefect project.\n",
    "f.register(\"scrape-ufcstats\")"
   ]
  },
  {
   "cell_type": "markdown",
   "metadata": {},
   "source": [
    "## 1.2 Scrape "
   ]
  },
  {
   "cell_type": "code",
   "execution_count": 8,
   "metadata": {
    "execution": {
     "iopub.execute_input": "2021-01-16T05:27:45.424693Z",
     "iopub.status.busy": "2021-01-16T05:27:45.424513Z",
     "iopub.status.idle": "2021-01-16T05:27:45.567704Z",
     "shell.execute_reply": "2021-01-16T05:27:45.567209Z",
     "shell.execute_reply.started": "2021-01-16T05:27:45.424674Z"
    }
   },
   "outputs": [
    {
     "name": "stdout",
     "output_type": "stream",
     "text": [
      "[2021-01-15 21:27:45-0800] INFO - prefect.FlowRunner | Beginning Flow run for 'Test'\n",
      "[2021-01-15 21:27:45-0800] INFO - prefect.TaskRunner | Task 'connect_postgres': Starting task run...\n",
      "[2021-01-15 21:27:45-0800] INFO - prefect.connect_postgres | Config file loaded successfully.\n",
      "[2021-01-15 21:27:45-0800] INFO - prefect.connect_postgres | Connecting to the PostgreSQL database fightdata ...\n",
      "[2021-01-15 21:27:45-0800] INFO - prefect.connect_postgres | Connection to db successful.\n",
      "[2021-01-15 21:27:45-0800] INFO - prefect.TaskRunner | Task 'connect_postgres': Finished task run for task with final state: 'Success'\n",
      "[2021-01-15 21:27:45-0800] INFO - prefect.FlowRunner | Flow run SUCCESS: all reference tasks succeeded\n"
     ]
    },
    {
     "data": {
      "text/plain": [
       "<Success: \"All reference tasks succeeded.\">"
      ]
     },
     "execution_count": 8,
     "metadata": {},
     "output_type": "execute_result"
    }
   ],
   "source": [
    "with Flow(\"Test\", executor=executor) as f:\n",
    "    io.connect_postgres()\n",
    "# Registers the Flow to the Prefect project.\n",
    "#f.register(\"scrape-ufcstats\")\n",
    "f.run()"
   ]
  }
 ],
 "metadata": {
  "kernelspec": {
   "display_name": "Python 3",
   "language": "python",
   "name": "python3"
  },
  "language_info": {
   "codemirror_mode": {
    "name": "ipython",
    "version": 3
   },
   "file_extension": ".py",
   "mimetype": "text/x-python",
   "name": "python",
   "nbconvert_exporter": "python",
   "pygments_lexer": "ipython3",
   "version": "3.8.5"
  }
 },
 "nbformat": 4,
 "nbformat_minor": 4
}

{
 "cells": [
  {
   "cell_type": "markdown",
   "metadata": {},
   "source": [
    "# Import Modules and ENV variables"
   ]
  },
  {
   "cell_type": "code",
   "execution_count": 8,
   "metadata": {},
   "outputs": [],
   "source": [
    "from sqlalchemy import create_engine\n",
    "import pandas as pd\n",
    "from dotenv import load_dotenv\n",
    "import os\n",
    "load_dotenv()\n"
   ]
  },
  {
   "cell_type": "markdown",
   "metadata": {},
   "source": [
    "# Move Scraped Data to Heroku Postgres"
   ]
  },
  {
   "cell_type": "code",
   "execution_count": 7,
   "metadata": {},
   "outputs": [],
   "source": [
    "engine = create_engine(os.getenv(\"POSTGRES_DB_URL\"))"
   ]
  },
  {
   "cell_type": "code",
   "execution_count": 12,
   "metadata": {},
   "outputs": [
    {
     "data": {
      "text/html": [
       "<div>\n",
       "<style scoped>\n",
       "    .dataframe tbody tr th:only-of-type {\n",
       "        vertical-align: middle;\n",
       "    }\n",
       "\n",
       "    .dataframe tbody tr th {\n",
       "        vertical-align: top;\n",
       "    }\n",
       "\n",
       "    .dataframe thead th {\n",
       "        text-align: right;\n",
       "    }\n",
       "</style>\n",
       "<table border=\"1\" class=\"dataframe\">\n",
       "  <thead>\n",
       "    <tr style=\"text-align: right;\">\n",
       "      <th></th>\n",
       "      <th>datetime_scraped</th>\n",
       "      <th>event_url</th>\n",
       "    </tr>\n",
       "  </thead>\n",
       "  <tbody>\n",
       "    <tr>\n",
       "      <th>0</th>\n",
       "      <td>2022-06-13 18:13:57.432221</td>\n",
       "      <td>http://www.ufcstats.com/event-details/3a24769a...</td>\n",
       "    </tr>\n",
       "    <tr>\n",
       "      <th>1</th>\n",
       "      <td>2022-06-13 18:13:57.470457</td>\n",
       "      <td>http://www.ufcstats.com/event-details/d1816896...</td>\n",
       "    </tr>\n",
       "    <tr>\n",
       "      <th>2</th>\n",
       "      <td>2022-06-13 18:13:57.531359</td>\n",
       "      <td>http://www.ufcstats.com/event-details/49e7e05f...</td>\n",
       "    </tr>\n",
       "    <tr>\n",
       "      <th>3</th>\n",
       "      <td>2022-06-13 18:13:57.532544</td>\n",
       "      <td>http://www.ufcstats.com/event-details/7929be82...</td>\n",
       "    </tr>\n",
       "    <tr>\n",
       "      <th>4</th>\n",
       "      <td>2022-06-13 18:13:57.546734</td>\n",
       "      <td>http://www.ufcstats.com/event-details/15515e79...</td>\n",
       "    </tr>\n",
       "    <tr>\n",
       "      <th>...</th>\n",
       "      <td>...</td>\n",
       "      <td>...</td>\n",
       "    </tr>\n",
       "    <tr>\n",
       "      <th>602</th>\n",
       "      <td>2022-06-13 18:14:06.233613</td>\n",
       "      <td>http://www.ufcstats.com/event-details/253d3f9e...</td>\n",
       "    </tr>\n",
       "    <tr>\n",
       "      <th>603</th>\n",
       "      <td>2022-06-13 18:14:06.237106</td>\n",
       "      <td>http://www.ufcstats.com/event-details/60ba33c3...</td>\n",
       "    </tr>\n",
       "    <tr>\n",
       "      <th>604</th>\n",
       "      <td>2022-06-13 18:14:06.238138</td>\n",
       "      <td>http://www.ufcstats.com/event-details/a6c32678...</td>\n",
       "    </tr>\n",
       "    <tr>\n",
       "      <th>605</th>\n",
       "      <td>2022-06-13 18:14:06.292523</td>\n",
       "      <td>http://www.ufcstats.com/event-details/91720876...</td>\n",
       "    </tr>\n",
       "    <tr>\n",
       "      <th>606</th>\n",
       "      <td>2022-06-13 18:14:06.544185</td>\n",
       "      <td>http://www.ufcstats.com/event-details/57591bbf...</td>\n",
       "    </tr>\n",
       "  </tbody>\n",
       "</table>\n",
       "<p>607 rows × 2 columns</p>\n",
       "</div>"
      ],
      "text/plain": [
       "               datetime_scraped  \\\n",
       "0    2022-06-13 18:13:57.432221   \n",
       "1    2022-06-13 18:13:57.470457   \n",
       "2    2022-06-13 18:13:57.531359   \n",
       "3    2022-06-13 18:13:57.532544   \n",
       "4    2022-06-13 18:13:57.546734   \n",
       "..                          ...   \n",
       "602  2022-06-13 18:14:06.233613   \n",
       "603  2022-06-13 18:14:06.237106   \n",
       "604  2022-06-13 18:14:06.238138   \n",
       "605  2022-06-13 18:14:06.292523   \n",
       "606  2022-06-13 18:14:06.544185   \n",
       "\n",
       "                                             event_url  \n",
       "0    http://www.ufcstats.com/event-details/3a24769a...  \n",
       "1    http://www.ufcstats.com/event-details/d1816896...  \n",
       "2    http://www.ufcstats.com/event-details/49e7e05f...  \n",
       "3    http://www.ufcstats.com/event-details/7929be82...  \n",
       "4    http://www.ufcstats.com/event-details/15515e79...  \n",
       "..                                                 ...  \n",
       "602  http://www.ufcstats.com/event-details/253d3f9e...  \n",
       "603  http://www.ufcstats.com/event-details/60ba33c3...  \n",
       "604  http://www.ufcstats.com/event-details/a6c32678...  \n",
       "605  http://www.ufcstats.com/event-details/91720876...  \n",
       "606  http://www.ufcstats.com/event-details/57591bbf...  \n",
       "\n",
       "[607 rows x 2 columns]"
      ]
     },
     "execution_count": 12,
     "metadata": {},
     "output_type": "execute_result"
    }
   ],
   "source": [
    "events_df = pd.read_csv(\"../data/events.csv\")\n",
    "events_df"
   ]
  },
  {
   "cell_type": "code",
   "execution_count": 11,
   "metadata": {},
   "outputs": [
    {
     "data": {
      "text/plain": [
       "607"
      ]
     },
     "execution_count": 11,
     "metadata": {},
     "output_type": "execute_result"
    }
   ],
   "source": [
    "events_df.to_sql(\"events\", engine, if_exists=\"replace\", index=False)"
   ]
  },
  {
   "cell_type": "code",
   "execution_count": null,
   "metadata": {},
   "outputs": [],
   "source": []
  }
 ],
 "metadata": {
  "kernelspec": {
   "display_name": "Python 3.10.4 64-bit",
   "language": "python",
   "name": "python3"
  },
  "language_info": {
   "codemirror_mode": {
    "name": "ipython",
    "version": 3
   },
   "file_extension": ".py",
   "mimetype": "text/x-python",
   "name": "python",
   "nbconvert_exporter": "python",
   "pygments_lexer": "ipython3",
   "version": "3.10.4"
  },
  "orig_nbformat": 4,
  "vscode": {
   "interpreter": {
    "hash": "23393d2575091a37cff0d0e9e7479591a295495b26c3b2ebf9b64da572e02d85"
   }
  }
 },
 "nbformat": 4,
 "nbformat_minor": 2
}
